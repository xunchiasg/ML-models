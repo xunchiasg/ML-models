{
 "cells": [
  {
   "cell_type": "markdown",
   "id": "a7ee4ad9",
   "metadata": {},
   "source": [
    "# Spotify ML Models"
   ]
  },
  {
   "cell_type": "markdown",
   "id": "8087411a",
   "metadata": {},
   "source": [
    "### Data Packages Setup"
   ]
  },
  {
   "cell_type": "code",
   "execution_count": 79,
   "id": "ff0fc518",
   "metadata": {},
   "outputs": [],
   "source": [
    "# Data\n",
    "import numpy as np\n",
    "import pandas as pd \n",
    "\n",
    "# Visualisation \n",
    "import matplotlib.pyplot as plt\n",
    "import seaborn as sns \n",
    "\n",
    "\n",
    "# Warning Suppression \n",
    "import warnings\n",
    "warnings.filterwarnings('ignore')"
   ]
  },
  {
   "cell_type": "markdown",
   "id": "a92de8ba",
   "metadata": {},
   "source": [
    "### Import Dataset (Huggingface)"
   ]
  },
  {
   "cell_type": "code",
   "execution_count": 80,
   "id": "2ba1d045",
   "metadata": {},
   "outputs": [],
   "source": [
    "# Spotify dataset from Huggingface in pd \n",
    "# https://huggingface.co/datasets/maharshipandya/spotify-tracks-dataset\n",
    "df = pd.read_csv(\"hf://datasets/maharshipandya/spotify-tracks-dataset/dataset.csv\")"
   ]
  },
  {
   "cell_type": "markdown",
   "id": "2603d3d0",
   "metadata": {},
   "source": [
    "### Explore Dataset"
   ]
  },
  {
   "cell_type": "markdown",
   "id": "31c4d412",
   "metadata": {},
   "source": [
    "- Basic Statistical Analysis "
   ]
  },
  {
   "cell_type": "code",
   "execution_count": 81,
   "id": "b28d3b77",
   "metadata": {},
   "outputs": [
    {
     "name": "stdout",
     "output_type": "stream",
     "text": [
      "Dataframe shape: (114000, 21)\n"
     ]
    }
   ],
   "source": [
    "# Shape of dataframe\n",
    "print(f\"Dataframe shape: {df.shape}\")"
   ]
  },
  {
   "cell_type": "code",
   "execution_count": 82,
   "id": "32017c43",
   "metadata": {},
   "outputs": [
    {
     "name": "stdout",
     "output_type": "stream",
     "text": [
      "<class 'pandas.core.frame.DataFrame'>\n",
      "RangeIndex: 114000 entries, 0 to 113999\n",
      "Data columns (total 21 columns):\n",
      " #   Column            Non-Null Count   Dtype  \n",
      "---  ------            --------------   -----  \n",
      " 0   Unnamed: 0        114000 non-null  int64  \n",
      " 1   track_id          114000 non-null  object \n",
      " 2   artists           113999 non-null  object \n",
      " 3   album_name        113999 non-null  object \n",
      " 4   track_name        113999 non-null  object \n",
      " 5   popularity        114000 non-null  int64  \n",
      " 6   duration_ms       114000 non-null  int64  \n",
      " 7   explicit          114000 non-null  bool   \n",
      " 8   danceability      114000 non-null  float64\n",
      " 9   energy            114000 non-null  float64\n",
      " 10  key               114000 non-null  int64  \n",
      " 11  loudness          114000 non-null  float64\n",
      " 12  mode              114000 non-null  int64  \n",
      " 13  speechiness       114000 non-null  float64\n",
      " 14  acousticness      114000 non-null  float64\n",
      " 15  instrumentalness  114000 non-null  float64\n",
      " 16  liveness          114000 non-null  float64\n",
      " 17  valence           114000 non-null  float64\n",
      " 18  tempo             114000 non-null  float64\n",
      " 19  time_signature    114000 non-null  int64  \n",
      " 20  track_genre       114000 non-null  object \n",
      "dtypes: bool(1), float64(9), int64(6), object(5)\n",
      "memory usage: 17.5+ MB\n"
     ]
    }
   ],
   "source": [
    "# Information of dataframe for dtypes\n",
    "df.info()"
   ]
  },
  {
   "cell_type": "code",
   "execution_count": 83,
   "id": "12c50ad3",
   "metadata": {},
   "outputs": [
    {
     "name": "stdout",
     "output_type": "stream",
     "text": [
      "Null values:\n",
      "Unnamed: 0          0\n",
      "track_id            0\n",
      "artists             1\n",
      "album_name          1\n",
      "track_name          1\n",
      "popularity          0\n",
      "duration_ms         0\n",
      "explicit            0\n",
      "danceability        0\n",
      "energy              0\n",
      "key                 0\n",
      "loudness            0\n",
      "mode                0\n",
      "speechiness         0\n",
      "acousticness        0\n",
      "instrumentalness    0\n",
      "liveness            0\n",
      "valence             0\n",
      "tempo               0\n",
      "time_signature      0\n",
      "track_genre         0\n",
      "dtype: int64\n"
     ]
    }
   ],
   "source": [
    "# Check for null values \n",
    "print(f\"Null values:\\n{df.isnull().sum()}\")"
   ]
  },
  {
   "cell_type": "code",
   "execution_count": 84,
   "id": "c8613c0e",
   "metadata": {},
   "outputs": [
    {
     "name": "stdout",
     "output_type": "stream",
     "text": [
      "Unique values:\n",
      "Unnamed: 0          114000\n",
      "track_id             89741\n",
      "artists              31437\n",
      "album_name           46589\n",
      "track_name           73608\n",
      "popularity             101\n",
      "duration_ms          50697\n",
      "explicit                 2\n",
      "danceability          1174\n",
      "energy                2083\n",
      "key                     12\n",
      "loudness             19480\n",
      "mode                     2\n",
      "speechiness           1489\n",
      "acousticness          5061\n",
      "instrumentalness      5346\n",
      "liveness              1722\n",
      "valence               1790\n",
      "tempo                45653\n",
      "time_signature           5\n",
      "track_genre            114\n",
      "dtype: int64\n"
     ]
    }
   ],
   "source": [
    "# Check unique counts \n",
    "print(f\"Unique values:\\n{df.nunique()}\")"
   ]
  },
  {
   "cell_type": "code",
   "execution_count": 85,
   "id": "cce39cc0",
   "metadata": {},
   "outputs": [
    {
     "data": {
      "application/vnd.microsoft.datawrangler.viewer.v0+json": {
       "columns": [
        {
         "name": "index",
         "rawType": "object",
         "type": "string"
        },
        {
         "name": "Unnamed: 0",
         "rawType": "float64",
         "type": "float"
        },
        {
         "name": "popularity",
         "rawType": "float64",
         "type": "float"
        },
        {
         "name": "duration_ms",
         "rawType": "float64",
         "type": "float"
        },
        {
         "name": "danceability",
         "rawType": "float64",
         "type": "float"
        },
        {
         "name": "energy",
         "rawType": "float64",
         "type": "float"
        },
        {
         "name": "key",
         "rawType": "float64",
         "type": "float"
        },
        {
         "name": "loudness",
         "rawType": "float64",
         "type": "float"
        },
        {
         "name": "mode",
         "rawType": "float64",
         "type": "float"
        },
        {
         "name": "speechiness",
         "rawType": "float64",
         "type": "float"
        },
        {
         "name": "acousticness",
         "rawType": "float64",
         "type": "float"
        },
        {
         "name": "instrumentalness",
         "rawType": "float64",
         "type": "float"
        },
        {
         "name": "liveness",
         "rawType": "float64",
         "type": "float"
        },
        {
         "name": "valence",
         "rawType": "float64",
         "type": "float"
        },
        {
         "name": "tempo",
         "rawType": "float64",
         "type": "float"
        },
        {
         "name": "time_signature",
         "rawType": "float64",
         "type": "float"
        }
       ],
       "ref": "37421f2b-a325-4f18-87c9-67e2c71327af",
       "rows": [
        [
         "count",
         "114000.0",
         "114000.0",
         "114000.0",
         "114000.0",
         "114000.0",
         "114000.0",
         "114000.0",
         "114000.0",
         "114000.0",
         "114000.0",
         "114000.0",
         "114000.0",
         "114000.0",
         "114000.0",
         "114000.0"
        ],
        [
         "mean",
         "56999.5",
         "33.2385350877193",
         "228029.15311403509",
         "0.5668000657894738",
         "0.6413827583964912",
         "5.309140350877193",
         "-8.258960368421052",
         "0.6375526315789474",
         "0.08465211228070177",
         "0.3149100624799999",
         "0.15604958922122808",
         "0.21355283605263162",
         "0.4740682309736842",
         "122.14783728947369",
         "3.9040350877192984"
        ],
        [
         "std",
         "32909.10968105944",
         "22.305078493368146",
         "107297.71264491393",
         "0.17354217360214508",
         "0.2515290688025472",
         "3.5599871245366215",
         "5.029336645041534",
         "0.48070916423039883",
         "0.10573236443652918",
         "0.3325227023059696",
         "0.30955484838543607",
         "0.19037769897482668",
         "0.2592610643835172",
         "29.978196920075636",
         "0.43262084834804354"
        ],
        [
         "min",
         "0.0",
         "0.0",
         "0.0",
         "0.0",
         "0.0",
         "0.0",
         "-49.531",
         "0.0",
         "0.0",
         "0.0",
         "0.0",
         "0.0",
         "0.0",
         "0.0",
         "0.0"
        ],
        [
         "25%",
         "28499.75",
         "17.0",
         "174066.0",
         "0.456",
         "0.472",
         "2.0",
         "-10.013",
         "0.0",
         "0.0359",
         "0.0169",
         "0.0",
         "0.098",
         "0.26",
         "99.21875",
         "4.0"
        ],
        [
         "50%",
         "56999.5",
         "35.0",
         "212906.0",
         "0.58",
         "0.685",
         "5.0",
         "-7.004",
         "1.0",
         "0.0489",
         "0.169",
         "4.16e-05",
         "0.132",
         "0.464",
         "122.017",
         "4.0"
        ],
        [
         "75%",
         "85499.25",
         "50.0",
         "261506.0",
         "0.695",
         "0.854",
         "8.0",
         "-5.003",
         "1.0",
         "0.0845",
         "0.598",
         "0.049",
         "0.273",
         "0.683",
         "140.071",
         "4.0"
        ],
        [
         "max",
         "113999.0",
         "100.0",
         "5237295.0",
         "0.985",
         "1.0",
         "11.0",
         "4.532",
         "1.0",
         "0.965",
         "0.996",
         "1.0",
         "1.0",
         "0.995",
         "243.372",
         "5.0"
        ]
       ],
       "shape": {
        "columns": 15,
        "rows": 8
       }
      },
      "text/html": [
       "<div>\n",
       "<style scoped>\n",
       "    .dataframe tbody tr th:only-of-type {\n",
       "        vertical-align: middle;\n",
       "    }\n",
       "\n",
       "    .dataframe tbody tr th {\n",
       "        vertical-align: top;\n",
       "    }\n",
       "\n",
       "    .dataframe thead th {\n",
       "        text-align: right;\n",
       "    }\n",
       "</style>\n",
       "<table border=\"1\" class=\"dataframe\">\n",
       "  <thead>\n",
       "    <tr style=\"text-align: right;\">\n",
       "      <th></th>\n",
       "      <th>Unnamed: 0</th>\n",
       "      <th>popularity</th>\n",
       "      <th>duration_ms</th>\n",
       "      <th>danceability</th>\n",
       "      <th>energy</th>\n",
       "      <th>key</th>\n",
       "      <th>loudness</th>\n",
       "      <th>mode</th>\n",
       "      <th>speechiness</th>\n",
       "      <th>acousticness</th>\n",
       "      <th>instrumentalness</th>\n",
       "      <th>liveness</th>\n",
       "      <th>valence</th>\n",
       "      <th>tempo</th>\n",
       "      <th>time_signature</th>\n",
       "    </tr>\n",
       "  </thead>\n",
       "  <tbody>\n",
       "    <tr>\n",
       "      <th>count</th>\n",
       "      <td>114000.000000</td>\n",
       "      <td>114000.000000</td>\n",
       "      <td>1.140000e+05</td>\n",
       "      <td>114000.000000</td>\n",
       "      <td>114000.000000</td>\n",
       "      <td>114000.000000</td>\n",
       "      <td>114000.000000</td>\n",
       "      <td>114000.000000</td>\n",
       "      <td>114000.000000</td>\n",
       "      <td>114000.000000</td>\n",
       "      <td>114000.000000</td>\n",
       "      <td>114000.000000</td>\n",
       "      <td>114000.000000</td>\n",
       "      <td>114000.000000</td>\n",
       "      <td>114000.000000</td>\n",
       "    </tr>\n",
       "    <tr>\n",
       "      <th>mean</th>\n",
       "      <td>56999.500000</td>\n",
       "      <td>33.238535</td>\n",
       "      <td>2.280292e+05</td>\n",
       "      <td>0.566800</td>\n",
       "      <td>0.641383</td>\n",
       "      <td>5.309140</td>\n",
       "      <td>-8.258960</td>\n",
       "      <td>0.637553</td>\n",
       "      <td>0.084652</td>\n",
       "      <td>0.314910</td>\n",
       "      <td>0.156050</td>\n",
       "      <td>0.213553</td>\n",
       "      <td>0.474068</td>\n",
       "      <td>122.147837</td>\n",
       "      <td>3.904035</td>\n",
       "    </tr>\n",
       "    <tr>\n",
       "      <th>std</th>\n",
       "      <td>32909.109681</td>\n",
       "      <td>22.305078</td>\n",
       "      <td>1.072977e+05</td>\n",
       "      <td>0.173542</td>\n",
       "      <td>0.251529</td>\n",
       "      <td>3.559987</td>\n",
       "      <td>5.029337</td>\n",
       "      <td>0.480709</td>\n",
       "      <td>0.105732</td>\n",
       "      <td>0.332523</td>\n",
       "      <td>0.309555</td>\n",
       "      <td>0.190378</td>\n",
       "      <td>0.259261</td>\n",
       "      <td>29.978197</td>\n",
       "      <td>0.432621</td>\n",
       "    </tr>\n",
       "    <tr>\n",
       "      <th>min</th>\n",
       "      <td>0.000000</td>\n",
       "      <td>0.000000</td>\n",
       "      <td>0.000000e+00</td>\n",
       "      <td>0.000000</td>\n",
       "      <td>0.000000</td>\n",
       "      <td>0.000000</td>\n",
       "      <td>-49.531000</td>\n",
       "      <td>0.000000</td>\n",
       "      <td>0.000000</td>\n",
       "      <td>0.000000</td>\n",
       "      <td>0.000000</td>\n",
       "      <td>0.000000</td>\n",
       "      <td>0.000000</td>\n",
       "      <td>0.000000</td>\n",
       "      <td>0.000000</td>\n",
       "    </tr>\n",
       "    <tr>\n",
       "      <th>25%</th>\n",
       "      <td>28499.750000</td>\n",
       "      <td>17.000000</td>\n",
       "      <td>1.740660e+05</td>\n",
       "      <td>0.456000</td>\n",
       "      <td>0.472000</td>\n",
       "      <td>2.000000</td>\n",
       "      <td>-10.013000</td>\n",
       "      <td>0.000000</td>\n",
       "      <td>0.035900</td>\n",
       "      <td>0.016900</td>\n",
       "      <td>0.000000</td>\n",
       "      <td>0.098000</td>\n",
       "      <td>0.260000</td>\n",
       "      <td>99.218750</td>\n",
       "      <td>4.000000</td>\n",
       "    </tr>\n",
       "    <tr>\n",
       "      <th>50%</th>\n",
       "      <td>56999.500000</td>\n",
       "      <td>35.000000</td>\n",
       "      <td>2.129060e+05</td>\n",
       "      <td>0.580000</td>\n",
       "      <td>0.685000</td>\n",
       "      <td>5.000000</td>\n",
       "      <td>-7.004000</td>\n",
       "      <td>1.000000</td>\n",
       "      <td>0.048900</td>\n",
       "      <td>0.169000</td>\n",
       "      <td>0.000042</td>\n",
       "      <td>0.132000</td>\n",
       "      <td>0.464000</td>\n",
       "      <td>122.017000</td>\n",
       "      <td>4.000000</td>\n",
       "    </tr>\n",
       "    <tr>\n",
       "      <th>75%</th>\n",
       "      <td>85499.250000</td>\n",
       "      <td>50.000000</td>\n",
       "      <td>2.615060e+05</td>\n",
       "      <td>0.695000</td>\n",
       "      <td>0.854000</td>\n",
       "      <td>8.000000</td>\n",
       "      <td>-5.003000</td>\n",
       "      <td>1.000000</td>\n",
       "      <td>0.084500</td>\n",
       "      <td>0.598000</td>\n",
       "      <td>0.049000</td>\n",
       "      <td>0.273000</td>\n",
       "      <td>0.683000</td>\n",
       "      <td>140.071000</td>\n",
       "      <td>4.000000</td>\n",
       "    </tr>\n",
       "    <tr>\n",
       "      <th>max</th>\n",
       "      <td>113999.000000</td>\n",
       "      <td>100.000000</td>\n",
       "      <td>5.237295e+06</td>\n",
       "      <td>0.985000</td>\n",
       "      <td>1.000000</td>\n",
       "      <td>11.000000</td>\n",
       "      <td>4.532000</td>\n",
       "      <td>1.000000</td>\n",
       "      <td>0.965000</td>\n",
       "      <td>0.996000</td>\n",
       "      <td>1.000000</td>\n",
       "      <td>1.000000</td>\n",
       "      <td>0.995000</td>\n",
       "      <td>243.372000</td>\n",
       "      <td>5.000000</td>\n",
       "    </tr>\n",
       "  </tbody>\n",
       "</table>\n",
       "</div>"
      ],
      "text/plain": [
       "          Unnamed: 0     popularity   duration_ms   danceability  \\\n",
       "count  114000.000000  114000.000000  1.140000e+05  114000.000000   \n",
       "mean    56999.500000      33.238535  2.280292e+05       0.566800   \n",
       "std     32909.109681      22.305078  1.072977e+05       0.173542   \n",
       "min         0.000000       0.000000  0.000000e+00       0.000000   \n",
       "25%     28499.750000      17.000000  1.740660e+05       0.456000   \n",
       "50%     56999.500000      35.000000  2.129060e+05       0.580000   \n",
       "75%     85499.250000      50.000000  2.615060e+05       0.695000   \n",
       "max    113999.000000     100.000000  5.237295e+06       0.985000   \n",
       "\n",
       "              energy            key       loudness           mode  \\\n",
       "count  114000.000000  114000.000000  114000.000000  114000.000000   \n",
       "mean        0.641383       5.309140      -8.258960       0.637553   \n",
       "std         0.251529       3.559987       5.029337       0.480709   \n",
       "min         0.000000       0.000000     -49.531000       0.000000   \n",
       "25%         0.472000       2.000000     -10.013000       0.000000   \n",
       "50%         0.685000       5.000000      -7.004000       1.000000   \n",
       "75%         0.854000       8.000000      -5.003000       1.000000   \n",
       "max         1.000000      11.000000       4.532000       1.000000   \n",
       "\n",
       "         speechiness   acousticness  instrumentalness       liveness  \\\n",
       "count  114000.000000  114000.000000     114000.000000  114000.000000   \n",
       "mean        0.084652       0.314910          0.156050       0.213553   \n",
       "std         0.105732       0.332523          0.309555       0.190378   \n",
       "min         0.000000       0.000000          0.000000       0.000000   \n",
       "25%         0.035900       0.016900          0.000000       0.098000   \n",
       "50%         0.048900       0.169000          0.000042       0.132000   \n",
       "75%         0.084500       0.598000          0.049000       0.273000   \n",
       "max         0.965000       0.996000          1.000000       1.000000   \n",
       "\n",
       "             valence          tempo  time_signature  \n",
       "count  114000.000000  114000.000000   114000.000000  \n",
       "mean        0.474068     122.147837        3.904035  \n",
       "std         0.259261      29.978197        0.432621  \n",
       "min         0.000000       0.000000        0.000000  \n",
       "25%         0.260000      99.218750        4.000000  \n",
       "50%         0.464000     122.017000        4.000000  \n",
       "75%         0.683000     140.071000        4.000000  \n",
       "max         0.995000     243.372000        5.000000  "
      ]
     },
     "execution_count": 85,
     "metadata": {},
     "output_type": "execute_result"
    }
   ],
   "source": [
    "# Statistical Inference\n",
    "df.describe()"
   ]
  },
  {
   "cell_type": "code",
   "execution_count": 86,
   "id": "787330ef",
   "metadata": {},
   "outputs": [
    {
     "data": {
      "application/vnd.microsoft.datawrangler.viewer.v0+json": {
       "columns": [
        {
         "name": "index",
         "rawType": "int64",
         "type": "integer"
        },
        {
         "name": "Unnamed: 0",
         "rawType": "int64",
         "type": "integer"
        },
        {
         "name": "track_id",
         "rawType": "object",
         "type": "string"
        },
        {
         "name": "artists",
         "rawType": "object",
         "type": "string"
        },
        {
         "name": "album_name",
         "rawType": "object",
         "type": "string"
        },
        {
         "name": "track_name",
         "rawType": "object",
         "type": "string"
        },
        {
         "name": "popularity",
         "rawType": "int64",
         "type": "integer"
        },
        {
         "name": "duration_ms",
         "rawType": "int64",
         "type": "integer"
        },
        {
         "name": "explicit",
         "rawType": "bool",
         "type": "boolean"
        },
        {
         "name": "danceability",
         "rawType": "float64",
         "type": "float"
        },
        {
         "name": "energy",
         "rawType": "float64",
         "type": "float"
        },
        {
         "name": "key",
         "rawType": "int64",
         "type": "integer"
        },
        {
         "name": "loudness",
         "rawType": "float64",
         "type": "float"
        },
        {
         "name": "mode",
         "rawType": "int64",
         "type": "integer"
        },
        {
         "name": "speechiness",
         "rawType": "float64",
         "type": "float"
        },
        {
         "name": "acousticness",
         "rawType": "float64",
         "type": "float"
        },
        {
         "name": "instrumentalness",
         "rawType": "float64",
         "type": "float"
        },
        {
         "name": "liveness",
         "rawType": "float64",
         "type": "float"
        },
        {
         "name": "valence",
         "rawType": "float64",
         "type": "float"
        },
        {
         "name": "tempo",
         "rawType": "float64",
         "type": "float"
        },
        {
         "name": "time_signature",
         "rawType": "int64",
         "type": "integer"
        },
        {
         "name": "track_genre",
         "rawType": "object",
         "type": "string"
        }
       ],
       "ref": "df0dbb00-c12d-4217-8c18-9470e46929d1",
       "rows": [
        [
         "0",
         "0",
         "5SuOikwiRyPMVoIQDJUgSV",
         "Gen Hoshino",
         "Comedy",
         "Comedy",
         "73",
         "230666",
         "False",
         "0.676",
         "0.461",
         "1",
         "-6.746",
         "0",
         "0.143",
         "0.0322",
         "1.01e-06",
         "0.358",
         "0.715",
         "87.917",
         "4",
         "acoustic"
        ],
        [
         "1",
         "1",
         "4qPNDBW1i3p13qLCt0Ki3A",
         "Ben Woodward",
         "Ghost (Acoustic)",
         "Ghost - Acoustic",
         "55",
         "149610",
         "False",
         "0.42",
         "0.166",
         "1",
         "-17.235",
         "1",
         "0.0763",
         "0.924",
         "5.56e-06",
         "0.101",
         "0.267",
         "77.489",
         "4",
         "acoustic"
        ],
        [
         "2",
         "2",
         "1iJBSr7s7jYXzM8EGcbK5b",
         "Ingrid Michaelson;ZAYN",
         "To Begin Again",
         "To Begin Again",
         "57",
         "210826",
         "False",
         "0.438",
         "0.359",
         "0",
         "-9.734",
         "1",
         "0.0557",
         "0.21",
         "0.0",
         "0.117",
         "0.12",
         "76.332",
         "4",
         "acoustic"
        ],
        [
         "3",
         "3",
         "6lfxq3CG4xtTiEg7opyCyx",
         "Kina Grannis",
         "Crazy Rich Asians (Original Motion Picture Soundtrack)",
         "Can't Help Falling In Love",
         "71",
         "201933",
         "False",
         "0.266",
         "0.0596",
         "0",
         "-18.515",
         "1",
         "0.0363",
         "0.905",
         "7.07e-05",
         "0.132",
         "0.143",
         "181.74",
         "3",
         "acoustic"
        ],
        [
         "4",
         "4",
         "5vjLSffimiIP26QG5WcN2K",
         "Chord Overstreet",
         "Hold On",
         "Hold On",
         "82",
         "198853",
         "False",
         "0.618",
         "0.443",
         "2",
         "-9.681",
         "1",
         "0.0526",
         "0.469",
         "0.0",
         "0.0829",
         "0.167",
         "119.949",
         "4",
         "acoustic"
        ]
       ],
       "shape": {
        "columns": 21,
        "rows": 5
       }
      },
      "text/html": [
       "<div>\n",
       "<style scoped>\n",
       "    .dataframe tbody tr th:only-of-type {\n",
       "        vertical-align: middle;\n",
       "    }\n",
       "\n",
       "    .dataframe tbody tr th {\n",
       "        vertical-align: top;\n",
       "    }\n",
       "\n",
       "    .dataframe thead th {\n",
       "        text-align: right;\n",
       "    }\n",
       "</style>\n",
       "<table border=\"1\" class=\"dataframe\">\n",
       "  <thead>\n",
       "    <tr style=\"text-align: right;\">\n",
       "      <th></th>\n",
       "      <th>Unnamed: 0</th>\n",
       "      <th>track_id</th>\n",
       "      <th>artists</th>\n",
       "      <th>album_name</th>\n",
       "      <th>track_name</th>\n",
       "      <th>popularity</th>\n",
       "      <th>duration_ms</th>\n",
       "      <th>explicit</th>\n",
       "      <th>danceability</th>\n",
       "      <th>energy</th>\n",
       "      <th>...</th>\n",
       "      <th>loudness</th>\n",
       "      <th>mode</th>\n",
       "      <th>speechiness</th>\n",
       "      <th>acousticness</th>\n",
       "      <th>instrumentalness</th>\n",
       "      <th>liveness</th>\n",
       "      <th>valence</th>\n",
       "      <th>tempo</th>\n",
       "      <th>time_signature</th>\n",
       "      <th>track_genre</th>\n",
       "    </tr>\n",
       "  </thead>\n",
       "  <tbody>\n",
       "    <tr>\n",
       "      <th>0</th>\n",
       "      <td>0</td>\n",
       "      <td>5SuOikwiRyPMVoIQDJUgSV</td>\n",
       "      <td>Gen Hoshino</td>\n",
       "      <td>Comedy</td>\n",
       "      <td>Comedy</td>\n",
       "      <td>73</td>\n",
       "      <td>230666</td>\n",
       "      <td>False</td>\n",
       "      <td>0.676</td>\n",
       "      <td>0.4610</td>\n",
       "      <td>...</td>\n",
       "      <td>-6.746</td>\n",
       "      <td>0</td>\n",
       "      <td>0.1430</td>\n",
       "      <td>0.0322</td>\n",
       "      <td>0.000001</td>\n",
       "      <td>0.3580</td>\n",
       "      <td>0.715</td>\n",
       "      <td>87.917</td>\n",
       "      <td>4</td>\n",
       "      <td>acoustic</td>\n",
       "    </tr>\n",
       "    <tr>\n",
       "      <th>1</th>\n",
       "      <td>1</td>\n",
       "      <td>4qPNDBW1i3p13qLCt0Ki3A</td>\n",
       "      <td>Ben Woodward</td>\n",
       "      <td>Ghost (Acoustic)</td>\n",
       "      <td>Ghost - Acoustic</td>\n",
       "      <td>55</td>\n",
       "      <td>149610</td>\n",
       "      <td>False</td>\n",
       "      <td>0.420</td>\n",
       "      <td>0.1660</td>\n",
       "      <td>...</td>\n",
       "      <td>-17.235</td>\n",
       "      <td>1</td>\n",
       "      <td>0.0763</td>\n",
       "      <td>0.9240</td>\n",
       "      <td>0.000006</td>\n",
       "      <td>0.1010</td>\n",
       "      <td>0.267</td>\n",
       "      <td>77.489</td>\n",
       "      <td>4</td>\n",
       "      <td>acoustic</td>\n",
       "    </tr>\n",
       "    <tr>\n",
       "      <th>2</th>\n",
       "      <td>2</td>\n",
       "      <td>1iJBSr7s7jYXzM8EGcbK5b</td>\n",
       "      <td>Ingrid Michaelson;ZAYN</td>\n",
       "      <td>To Begin Again</td>\n",
       "      <td>To Begin Again</td>\n",
       "      <td>57</td>\n",
       "      <td>210826</td>\n",
       "      <td>False</td>\n",
       "      <td>0.438</td>\n",
       "      <td>0.3590</td>\n",
       "      <td>...</td>\n",
       "      <td>-9.734</td>\n",
       "      <td>1</td>\n",
       "      <td>0.0557</td>\n",
       "      <td>0.2100</td>\n",
       "      <td>0.000000</td>\n",
       "      <td>0.1170</td>\n",
       "      <td>0.120</td>\n",
       "      <td>76.332</td>\n",
       "      <td>4</td>\n",
       "      <td>acoustic</td>\n",
       "    </tr>\n",
       "    <tr>\n",
       "      <th>3</th>\n",
       "      <td>3</td>\n",
       "      <td>6lfxq3CG4xtTiEg7opyCyx</td>\n",
       "      <td>Kina Grannis</td>\n",
       "      <td>Crazy Rich Asians (Original Motion Picture Sou...</td>\n",
       "      <td>Can't Help Falling In Love</td>\n",
       "      <td>71</td>\n",
       "      <td>201933</td>\n",
       "      <td>False</td>\n",
       "      <td>0.266</td>\n",
       "      <td>0.0596</td>\n",
       "      <td>...</td>\n",
       "      <td>-18.515</td>\n",
       "      <td>1</td>\n",
       "      <td>0.0363</td>\n",
       "      <td>0.9050</td>\n",
       "      <td>0.000071</td>\n",
       "      <td>0.1320</td>\n",
       "      <td>0.143</td>\n",
       "      <td>181.740</td>\n",
       "      <td>3</td>\n",
       "      <td>acoustic</td>\n",
       "    </tr>\n",
       "    <tr>\n",
       "      <th>4</th>\n",
       "      <td>4</td>\n",
       "      <td>5vjLSffimiIP26QG5WcN2K</td>\n",
       "      <td>Chord Overstreet</td>\n",
       "      <td>Hold On</td>\n",
       "      <td>Hold On</td>\n",
       "      <td>82</td>\n",
       "      <td>198853</td>\n",
       "      <td>False</td>\n",
       "      <td>0.618</td>\n",
       "      <td>0.4430</td>\n",
       "      <td>...</td>\n",
       "      <td>-9.681</td>\n",
       "      <td>1</td>\n",
       "      <td>0.0526</td>\n",
       "      <td>0.4690</td>\n",
       "      <td>0.000000</td>\n",
       "      <td>0.0829</td>\n",
       "      <td>0.167</td>\n",
       "      <td>119.949</td>\n",
       "      <td>4</td>\n",
       "      <td>acoustic</td>\n",
       "    </tr>\n",
       "  </tbody>\n",
       "</table>\n",
       "<p>5 rows × 21 columns</p>\n",
       "</div>"
      ],
      "text/plain": [
       "   Unnamed: 0                track_id                 artists  \\\n",
       "0           0  5SuOikwiRyPMVoIQDJUgSV             Gen Hoshino   \n",
       "1           1  4qPNDBW1i3p13qLCt0Ki3A            Ben Woodward   \n",
       "2           2  1iJBSr7s7jYXzM8EGcbK5b  Ingrid Michaelson;ZAYN   \n",
       "3           3  6lfxq3CG4xtTiEg7opyCyx            Kina Grannis   \n",
       "4           4  5vjLSffimiIP26QG5WcN2K        Chord Overstreet   \n",
       "\n",
       "                                          album_name  \\\n",
       "0                                             Comedy   \n",
       "1                                   Ghost (Acoustic)   \n",
       "2                                     To Begin Again   \n",
       "3  Crazy Rich Asians (Original Motion Picture Sou...   \n",
       "4                                            Hold On   \n",
       "\n",
       "                   track_name  popularity  duration_ms  explicit  \\\n",
       "0                      Comedy          73       230666     False   \n",
       "1            Ghost - Acoustic          55       149610     False   \n",
       "2              To Begin Again          57       210826     False   \n",
       "3  Can't Help Falling In Love          71       201933     False   \n",
       "4                     Hold On          82       198853     False   \n",
       "\n",
       "   danceability  energy  ...  loudness  mode  speechiness  acousticness  \\\n",
       "0         0.676  0.4610  ...    -6.746     0       0.1430        0.0322   \n",
       "1         0.420  0.1660  ...   -17.235     1       0.0763        0.9240   \n",
       "2         0.438  0.3590  ...    -9.734     1       0.0557        0.2100   \n",
       "3         0.266  0.0596  ...   -18.515     1       0.0363        0.9050   \n",
       "4         0.618  0.4430  ...    -9.681     1       0.0526        0.4690   \n",
       "\n",
       "   instrumentalness  liveness  valence    tempo  time_signature  track_genre  \n",
       "0          0.000001    0.3580    0.715   87.917               4     acoustic  \n",
       "1          0.000006    0.1010    0.267   77.489               4     acoustic  \n",
       "2          0.000000    0.1170    0.120   76.332               4     acoustic  \n",
       "3          0.000071    0.1320    0.143  181.740               3     acoustic  \n",
       "4          0.000000    0.0829    0.167  119.949               4     acoustic  \n",
       "\n",
       "[5 rows x 21 columns]"
      ]
     },
     "execution_count": 86,
     "metadata": {},
     "output_type": "execute_result"
    }
   ],
   "source": [
    "# Dataframe Head (Against Attribute Dictionary)\n",
    "df.head(5)"
   ]
  },
  {
   "cell_type": "markdown",
   "id": "a3a5829b",
   "metadata": {},
   "source": [
    "- Data Preprocessing based off above observations"
   ]
  },
  {
   "cell_type": "code",
   "execution_count": 87,
   "id": "d2b025f7",
   "metadata": {},
   "outputs": [],
   "source": [
    "def df_cleaning(df):\n",
    "    \"\"\"\n",
    "    Generic function to process/clean above dataframe\n",
    "\n",
    "    Args:\n",
    "        df (pd.Dataframe)\n",
    "        \n",
    "    Return:\n",
    "        pd.Dataframe(Cleaned dataframe)    \n",
    "        \n",
    "    \"\"\"\n",
    "    \n",
    "    # Create new copy of df for processing\n",
    "    df_cleaned = df.copy()\n",
    "    \n",
    "    # Store shape \n",
    "    old_rows = df_cleaned.shape[0]\n",
    "    print (f\"Processing:\\nCreated copy of existing df with {old_rows} records\")\n",
    "    \n",
    "    # Drop null values\n",
    "    df_cleaned = df_cleaned.dropna()\n",
    "    rows_removed = old_rows - df_cleaned.shape[0]\n",
    "    print (f\"Removed {rows_removed} records with null value\")\n",
    "    \n",
    "    # Drop columns not needed \n",
    "    cols_drop = ['Unnamed: 0', 'track_id', 'explicit', 'time_signature'] # Change as required\n",
    "    df_cleaned = df_cleaned.drop(columns = cols_drop)\n",
    "    print (f\"Dropped {cols_drop} columns\\nNo of columns dropped: {len(cols_drop)}\")\n",
    "    print (f\"Cleaned df shape:{df_cleaned.shape}\")\n",
    "    \n",
    "    return df_cleaned\n"
   ]
  },
  {
   "cell_type": "markdown",
   "id": "fecac6a3",
   "metadata": {},
   "source": [
    "'artists', 'album_name', 'track_name', 'track_genre'"
   ]
  },
  {
   "cell_type": "markdown",
   "id": "2a2705c4",
   "metadata": {},
   "source": [
    "ABC dropping of columns"
   ]
  },
  {
   "cell_type": "code",
   "execution_count": 88,
   "id": "50613150",
   "metadata": {},
   "outputs": [
    {
     "name": "stdout",
     "output_type": "stream",
     "text": [
      "Processing:\n",
      "Created copy of existing df with 114000 records\n",
      "Removed 1 records with null value\n",
      "Dropped ['Unnamed: 0', 'track_id', 'explicit', 'time_signature'] columns\n",
      "No of columns dropped: 4\n",
      "Cleaned df shape:(113999, 17)\n"
     ]
    }
   ],
   "source": [
    "# Cleaning function implemented \n",
    "cleaned_df = df_cleaning(df)"
   ]
  },
  {
   "cell_type": "markdown",
   "id": "ba7410cf",
   "metadata": {},
   "source": [
    "Target Variable is 'popularity' (ML model to predict for). \n",
    "\n",
    "For purposes of model training feature engineering ```'popularity_class'``` will be created, where:\n",
    "\n",
    "| popularity_class       | Encoded Value | Meaning   |\n",
    "| ---------------------- | ------------- | --------- |\n",
    "| 0–49                   | 0             | Unpopular |\n",
    "| 50–100                 | 1             | Popular   |\n",
    "\n",
    "The scoring threshold was selected based off deemed reasonableness and to prevent an overly imbalanced dataset for model purposes."
   ]
  },
  {
   "cell_type": "code",
   "execution_count": 89,
   "id": "c4d7e9e6",
   "metadata": {},
   "outputs": [],
   "source": [
    "def target_label(df):\n",
    "    \n",
    "    \"\"\"\n",
    "    Function to label encode target variable for this particular dataset\n",
    "\n",
    "    Args:\n",
    "        df (pd.Dataframe)\n",
    "        \n",
    "    Return:\n",
    "        pd.Dataframe(Transformed dataframe)    \n",
    "        \n",
    "    \"\"\"\n",
    "    \n",
    "    # Create new copy of df for transfomration \n",
    "    class_encode = df.copy()\n",
    "    \n",
    "    old_rows = class_encode.shape[0]\n",
    "    print (f\"Processing:\\nCreated copy of existing df with {old_rows} records\")\n",
    "    \n",
    "    # Initialize counter for popular tracks\n",
    "    pop_count = 0\n",
    "    total_rows = len(class_encode)\n",
    "    \n",
    "    # Create new column \n",
    "    class_encode['popularity_class'] = 0\n",
    "    \n",
    "  \n",
    "    for i, row in class_encode.iterrows():\n",
    "        if row.popularity >= 50: # Threshold set\n",
    "            class_encode.loc[i, 'popularity_class'] = 1\n",
    "            pop_count +=1  \n",
    "    \n",
    "    print(f\"Encoding complete:\\n{pop_count} popular tracks ({(pop_count/total_rows)*100:.2f}%)\\n{total_rows-pop_count} unpopular tracks ({((total_rows-pop_count)/total_rows)*100:.2f}%)\")\n",
    "    \n",
    "    # Drop popularity column \n",
    "    cols_drop_t = ['popularity']\n",
    "    class_encode = class_encode.drop(columns = cols_drop_t)       \n",
    "    print (f\"Dropped {cols_drop_t} columns\\nNo of columns dropped: {len(cols_drop_t)}\")\n",
    "    print (f\"Changed df shape:{class_encode.shape}\") \n",
    "    \n",
    "    return class_encode       "
   ]
  },
  {
   "cell_type": "code",
   "execution_count": 90,
   "id": "e9abbfae",
   "metadata": {},
   "outputs": [
    {
     "name": "stdout",
     "output_type": "stream",
     "text": [
      "Processing:\n",
      "Created copy of existing df with 113999 records\n",
      "Encoding complete:\n",
      "29367 popular tracks (25.76%)\n",
      "84632 unpopular tracks (74.24%)\n",
      "Dropped ['popularity'] columns\n",
      "No of columns dropped: 1\n",
      "Changed df shape:(113999, 17)\n"
     ]
    }
   ],
   "source": [
    "# Encoding function implemented \n",
    "trans_df = target_label(cleaned_df)"
   ]
  },
  {
   "cell_type": "code",
   "execution_count": 91,
   "id": "5c9bb9d1",
   "metadata": {},
   "outputs": [
    {
     "data": {
      "application/vnd.microsoft.datawrangler.viewer.v0+json": {
       "columns": [
        {
         "name": "index",
         "rawType": "int64",
         "type": "integer"
        },
        {
         "name": "artists",
         "rawType": "object",
         "type": "string"
        },
        {
         "name": "album_name",
         "rawType": "object",
         "type": "string"
        },
        {
         "name": "track_name",
         "rawType": "object",
         "type": "string"
        },
        {
         "name": "duration_ms",
         "rawType": "int64",
         "type": "integer"
        },
        {
         "name": "danceability",
         "rawType": "float64",
         "type": "float"
        },
        {
         "name": "energy",
         "rawType": "float64",
         "type": "float"
        },
        {
         "name": "key",
         "rawType": "int64",
         "type": "integer"
        },
        {
         "name": "loudness",
         "rawType": "float64",
         "type": "float"
        },
        {
         "name": "mode",
         "rawType": "int64",
         "type": "integer"
        },
        {
         "name": "speechiness",
         "rawType": "float64",
         "type": "float"
        },
        {
         "name": "acousticness",
         "rawType": "float64",
         "type": "float"
        },
        {
         "name": "instrumentalness",
         "rawType": "float64",
         "type": "float"
        },
        {
         "name": "liveness",
         "rawType": "float64",
         "type": "float"
        },
        {
         "name": "valence",
         "rawType": "float64",
         "type": "float"
        },
        {
         "name": "tempo",
         "rawType": "float64",
         "type": "float"
        },
        {
         "name": "track_genre",
         "rawType": "object",
         "type": "string"
        },
        {
         "name": "popularity_class",
         "rawType": "int64",
         "type": "integer"
        }
       ],
       "ref": "5d49a903-8049-4633-9e52-60e508514b70",
       "rows": [
        [
         "0",
         "Gen Hoshino",
         "Comedy",
         "Comedy",
         "230666",
         "0.676",
         "0.461",
         "1",
         "-6.746",
         "0",
         "0.143",
         "0.0322",
         "1.01e-06",
         "0.358",
         "0.715",
         "87.917",
         "acoustic",
         "1"
        ],
        [
         "1",
         "Ben Woodward",
         "Ghost (Acoustic)",
         "Ghost - Acoustic",
         "149610",
         "0.42",
         "0.166",
         "1",
         "-17.235",
         "1",
         "0.0763",
         "0.924",
         "5.56e-06",
         "0.101",
         "0.267",
         "77.489",
         "acoustic",
         "1"
        ],
        [
         "2",
         "Ingrid Michaelson;ZAYN",
         "To Begin Again",
         "To Begin Again",
         "210826",
         "0.438",
         "0.359",
         "0",
         "-9.734",
         "1",
         "0.0557",
         "0.21",
         "0.0",
         "0.117",
         "0.12",
         "76.332",
         "acoustic",
         "1"
        ],
        [
         "3",
         "Kina Grannis",
         "Crazy Rich Asians (Original Motion Picture Soundtrack)",
         "Can't Help Falling In Love",
         "201933",
         "0.266",
         "0.0596",
         "0",
         "-18.515",
         "1",
         "0.0363",
         "0.905",
         "7.07e-05",
         "0.132",
         "0.143",
         "181.74",
         "acoustic",
         "1"
        ],
        [
         "4",
         "Chord Overstreet",
         "Hold On",
         "Hold On",
         "198853",
         "0.618",
         "0.443",
         "2",
         "-9.681",
         "1",
         "0.0526",
         "0.469",
         "0.0",
         "0.0829",
         "0.167",
         "119.949",
         "acoustic",
         "1"
        ]
       ],
       "shape": {
        "columns": 17,
        "rows": 5
       }
      },
      "text/html": [
       "<div>\n",
       "<style scoped>\n",
       "    .dataframe tbody tr th:only-of-type {\n",
       "        vertical-align: middle;\n",
       "    }\n",
       "\n",
       "    .dataframe tbody tr th {\n",
       "        vertical-align: top;\n",
       "    }\n",
       "\n",
       "    .dataframe thead th {\n",
       "        text-align: right;\n",
       "    }\n",
       "</style>\n",
       "<table border=\"1\" class=\"dataframe\">\n",
       "  <thead>\n",
       "    <tr style=\"text-align: right;\">\n",
       "      <th></th>\n",
       "      <th>artists</th>\n",
       "      <th>album_name</th>\n",
       "      <th>track_name</th>\n",
       "      <th>duration_ms</th>\n",
       "      <th>danceability</th>\n",
       "      <th>energy</th>\n",
       "      <th>key</th>\n",
       "      <th>loudness</th>\n",
       "      <th>mode</th>\n",
       "      <th>speechiness</th>\n",
       "      <th>acousticness</th>\n",
       "      <th>instrumentalness</th>\n",
       "      <th>liveness</th>\n",
       "      <th>valence</th>\n",
       "      <th>tempo</th>\n",
       "      <th>track_genre</th>\n",
       "      <th>popularity_class</th>\n",
       "    </tr>\n",
       "  </thead>\n",
       "  <tbody>\n",
       "    <tr>\n",
       "      <th>0</th>\n",
       "      <td>Gen Hoshino</td>\n",
       "      <td>Comedy</td>\n",
       "      <td>Comedy</td>\n",
       "      <td>230666</td>\n",
       "      <td>0.676</td>\n",
       "      <td>0.4610</td>\n",
       "      <td>1</td>\n",
       "      <td>-6.746</td>\n",
       "      <td>0</td>\n",
       "      <td>0.1430</td>\n",
       "      <td>0.0322</td>\n",
       "      <td>0.000001</td>\n",
       "      <td>0.3580</td>\n",
       "      <td>0.715</td>\n",
       "      <td>87.917</td>\n",
       "      <td>acoustic</td>\n",
       "      <td>1</td>\n",
       "    </tr>\n",
       "    <tr>\n",
       "      <th>1</th>\n",
       "      <td>Ben Woodward</td>\n",
       "      <td>Ghost (Acoustic)</td>\n",
       "      <td>Ghost - Acoustic</td>\n",
       "      <td>149610</td>\n",
       "      <td>0.420</td>\n",
       "      <td>0.1660</td>\n",
       "      <td>1</td>\n",
       "      <td>-17.235</td>\n",
       "      <td>1</td>\n",
       "      <td>0.0763</td>\n",
       "      <td>0.9240</td>\n",
       "      <td>0.000006</td>\n",
       "      <td>0.1010</td>\n",
       "      <td>0.267</td>\n",
       "      <td>77.489</td>\n",
       "      <td>acoustic</td>\n",
       "      <td>1</td>\n",
       "    </tr>\n",
       "    <tr>\n",
       "      <th>2</th>\n",
       "      <td>Ingrid Michaelson;ZAYN</td>\n",
       "      <td>To Begin Again</td>\n",
       "      <td>To Begin Again</td>\n",
       "      <td>210826</td>\n",
       "      <td>0.438</td>\n",
       "      <td>0.3590</td>\n",
       "      <td>0</td>\n",
       "      <td>-9.734</td>\n",
       "      <td>1</td>\n",
       "      <td>0.0557</td>\n",
       "      <td>0.2100</td>\n",
       "      <td>0.000000</td>\n",
       "      <td>0.1170</td>\n",
       "      <td>0.120</td>\n",
       "      <td>76.332</td>\n",
       "      <td>acoustic</td>\n",
       "      <td>1</td>\n",
       "    </tr>\n",
       "    <tr>\n",
       "      <th>3</th>\n",
       "      <td>Kina Grannis</td>\n",
       "      <td>Crazy Rich Asians (Original Motion Picture Sou...</td>\n",
       "      <td>Can't Help Falling In Love</td>\n",
       "      <td>201933</td>\n",
       "      <td>0.266</td>\n",
       "      <td>0.0596</td>\n",
       "      <td>0</td>\n",
       "      <td>-18.515</td>\n",
       "      <td>1</td>\n",
       "      <td>0.0363</td>\n",
       "      <td>0.9050</td>\n",
       "      <td>0.000071</td>\n",
       "      <td>0.1320</td>\n",
       "      <td>0.143</td>\n",
       "      <td>181.740</td>\n",
       "      <td>acoustic</td>\n",
       "      <td>1</td>\n",
       "    </tr>\n",
       "    <tr>\n",
       "      <th>4</th>\n",
       "      <td>Chord Overstreet</td>\n",
       "      <td>Hold On</td>\n",
       "      <td>Hold On</td>\n",
       "      <td>198853</td>\n",
       "      <td>0.618</td>\n",
       "      <td>0.4430</td>\n",
       "      <td>2</td>\n",
       "      <td>-9.681</td>\n",
       "      <td>1</td>\n",
       "      <td>0.0526</td>\n",
       "      <td>0.4690</td>\n",
       "      <td>0.000000</td>\n",
       "      <td>0.0829</td>\n",
       "      <td>0.167</td>\n",
       "      <td>119.949</td>\n",
       "      <td>acoustic</td>\n",
       "      <td>1</td>\n",
       "    </tr>\n",
       "  </tbody>\n",
       "</table>\n",
       "</div>"
      ],
      "text/plain": [
       "                  artists                                         album_name  \\\n",
       "0             Gen Hoshino                                             Comedy   \n",
       "1            Ben Woodward                                   Ghost (Acoustic)   \n",
       "2  Ingrid Michaelson;ZAYN                                     To Begin Again   \n",
       "3            Kina Grannis  Crazy Rich Asians (Original Motion Picture Sou...   \n",
       "4        Chord Overstreet                                            Hold On   \n",
       "\n",
       "                   track_name  duration_ms  danceability  energy  key  \\\n",
       "0                      Comedy       230666         0.676  0.4610    1   \n",
       "1            Ghost - Acoustic       149610         0.420  0.1660    1   \n",
       "2              To Begin Again       210826         0.438  0.3590    0   \n",
       "3  Can't Help Falling In Love       201933         0.266  0.0596    0   \n",
       "4                     Hold On       198853         0.618  0.4430    2   \n",
       "\n",
       "   loudness  mode  speechiness  acousticness  instrumentalness  liveness  \\\n",
       "0    -6.746     0       0.1430        0.0322          0.000001    0.3580   \n",
       "1   -17.235     1       0.0763        0.9240          0.000006    0.1010   \n",
       "2    -9.734     1       0.0557        0.2100          0.000000    0.1170   \n",
       "3   -18.515     1       0.0363        0.9050          0.000071    0.1320   \n",
       "4    -9.681     1       0.0526        0.4690          0.000000    0.0829   \n",
       "\n",
       "   valence    tempo track_genre  popularity_class  \n",
       "0    0.715   87.917    acoustic                 1  \n",
       "1    0.267   77.489    acoustic                 1  \n",
       "2    0.120   76.332    acoustic                 1  \n",
       "3    0.143  181.740    acoustic                 1  \n",
       "4    0.167  119.949    acoustic                 1  "
      ]
     },
     "execution_count": 91,
     "metadata": {},
     "output_type": "execute_result"
    }
   ],
   "source": [
    "trans_df.head(5)"
   ]
  },
  {
   "cell_type": "code",
   "execution_count": 92,
   "id": "eab0f4ed",
   "metadata": {},
   "outputs": [
    {
     "name": "stdout",
     "output_type": "stream",
     "text": [
      "<class 'pandas.core.frame.DataFrame'>\n",
      "Index: 113999 entries, 0 to 113999\n",
      "Data columns (total 17 columns):\n",
      " #   Column            Non-Null Count   Dtype  \n",
      "---  ------            --------------   -----  \n",
      " 0   artists           113999 non-null  object \n",
      " 1   album_name        113999 non-null  object \n",
      " 2   track_name        113999 non-null  object \n",
      " 3   duration_ms       113999 non-null  int64  \n",
      " 4   danceability      113999 non-null  float64\n",
      " 5   energy            113999 non-null  float64\n",
      " 6   key               113999 non-null  int64  \n",
      " 7   loudness          113999 non-null  float64\n",
      " 8   mode              113999 non-null  int64  \n",
      " 9   speechiness       113999 non-null  float64\n",
      " 10  acousticness      113999 non-null  float64\n",
      " 11  instrumentalness  113999 non-null  float64\n",
      " 12  liveness          113999 non-null  float64\n",
      " 13  valence           113999 non-null  float64\n",
      " 14  tempo             113999 non-null  float64\n",
      " 15  track_genre       113999 non-null  object \n",
      " 16  popularity_class  113999 non-null  int64  \n",
      "dtypes: float64(9), int64(4), object(4)\n",
      "memory usage: 19.7+ MB\n"
     ]
    }
   ],
   "source": [
    "trans_df.info()"
   ]
  },
  {
   "cell_type": "markdown",
   "id": "6caf032f",
   "metadata": {},
   "source": [
    "### Visualise Dataset"
   ]
  },
  {
   "cell_type": "markdown",
   "id": "82dbd1c9",
   "metadata": {},
   "source": [
    "- Feature scaling using StandardScaler to standardize numeric feature range for plotting"
   ]
  },
  {
   "cell_type": "code",
   "execution_count": 93,
   "id": "fda09cc8",
   "metadata": {},
   "outputs": [],
   "source": [
    "# StandardScaler \n",
    "from sklearn.preprocessing import StandardScaler\n",
    "scale = StandardScaler()"
   ]
  },
  {
   "cell_type": "code",
   "execution_count": 94,
   "id": "c7f62592",
   "metadata": {},
   "outputs": [
    {
     "data": {
      "application/vnd.microsoft.datawrangler.viewer.v0+json": {
       "columns": [
        {
         "name": "index",
         "rawType": "object",
         "type": "string"
        },
        {
         "name": "duration_ms",
         "rawType": "float64",
         "type": "float"
        },
        {
         "name": "danceability",
         "rawType": "float64",
         "type": "float"
        },
        {
         "name": "energy",
         "rawType": "float64",
         "type": "float"
        },
        {
         "name": "key",
         "rawType": "float64",
         "type": "float"
        },
        {
         "name": "loudness",
         "rawType": "float64",
         "type": "float"
        },
        {
         "name": "mode",
         "rawType": "float64",
         "type": "float"
        },
        {
         "name": "speechiness",
         "rawType": "float64",
         "type": "float"
        },
        {
         "name": "acousticness",
         "rawType": "float64",
         "type": "float"
        },
        {
         "name": "instrumentalness",
         "rawType": "float64",
         "type": "float"
        },
        {
         "name": "liveness",
         "rawType": "float64",
         "type": "float"
        },
        {
         "name": "valence",
         "rawType": "float64",
         "type": "float"
        },
        {
         "name": "tempo",
         "rawType": "float64",
         "type": "float"
        }
       ],
       "ref": "299e5ace-c55d-4886-9639-1d244c8f54bd",
       "rows": [
        [
         "count",
         "113999.0",
         "113999.0",
         "113999.0",
         "113999.0",
         "113999.0",
         "113999.0",
         "113999.0",
         "113999.0",
         "113999.0",
         "113999.0",
         "113999.0",
         "113999.0"
        ],
        [
         "mean",
         "-5.784117920204326e-17",
         "-9.374260077572528e-17",
         "2.2413456940791766e-16",
         "1.844934164203104e-17",
         "2.164057911524722e-16",
         "-6.183022604356349e-17",
         "3.7895944994442136e-17",
         "-1.1967140524560675e-17",
         "-2.5928804469881462e-17",
         "2.1690442200766222e-16",
         "-2.3734828707045337e-16",
         "4.642253261819162e-16"
        ],
        [
         "std",
         "1.0000043860322243",
         "1.0000043860322552",
         "1.000004386032252",
         "1.000004386032414",
         "1.000004386032239",
         "1.0000043860321213",
         "1.0000043860323322",
         "1.0000043860322283",
         "1.000004386032668",
         "1.0000043860321781",
         "1.0000043860322683",
         "1.0000043860322343"
        ],
        [
         "min",
         "-2.0452393177501613",
         "-3.2660706536992614",
         "-2.5499375684229006",
         "-1.4913342621777257",
         "-8.206263251672471",
         "-1.3262970429981178",
         "-0.8006284922100445",
         "-0.9470286614101733",
         "-0.5041145030885494",
         "-1.121741430244111",
         "-1.8285354263921079",
         "-4.074556332244772"
        ],
        [
         "25%",
         "-0.5029578087848893",
         "-0.6384656279968802",
         "-0.6734144540918703",
         "-0.929533921635627",
         "-0.3487638091550364",
         "-1.3262970429981178",
         "-0.46109188572868065",
         "-0.8962047802132005",
         "-0.5041145030885494",
         "-0.6069740537018015",
         "-0.8256808446423022",
         "-0.7648633568807983"
        ],
        [
         "50%",
         "-0.14096715246260763",
         "0.07605854565903016",
         "0.17340635809565014",
         "-0.08683341082247892",
         "0.24952597834774626",
         "0.7539789108927536",
         "-0.3381399112368219",
         "-0.4387898494404451",
         "-0.5039801164224663",
         "-0.4283812904116124",
         "-0.038825711269377755",
         "-0.004359667560403779"
        ],
        [
         "75%",
         "0.3119871703299487",
         "0.738722093807657",
         "0.845297049455701",
         "0.7558670999906691",
         "0.6473916695385298",
         "0.7539789108927536",
         "-0.001440658012962397",
         "0.8498511619739246",
         "-0.3458225165964296",
         "0.31225340440946586",
         "0.805886417204497",
         "0.5978787958029932"
        ],
        [
         "max",
         "46.68657846361496",
         "2.409786693486803",
         "1.425746995837757",
         "1.5985676108038172",
         "2.5432684139184007",
         "0.7539789108927536",
         "8.326191152762549",
         "2.048272265938047",
         "2.726334200832263",
         "4.130986901820273",
         "2.009311915304264",
         "4.043754252981584"
        ]
       ],
       "shape": {
        "columns": 12,
        "rows": 8
       }
      },
      "text/html": [
       "<div>\n",
       "<style scoped>\n",
       "    .dataframe tbody tr th:only-of-type {\n",
       "        vertical-align: middle;\n",
       "    }\n",
       "\n",
       "    .dataframe tbody tr th {\n",
       "        vertical-align: top;\n",
       "    }\n",
       "\n",
       "    .dataframe thead th {\n",
       "        text-align: right;\n",
       "    }\n",
       "</style>\n",
       "<table border=\"1\" class=\"dataframe\">\n",
       "  <thead>\n",
       "    <tr style=\"text-align: right;\">\n",
       "      <th></th>\n",
       "      <th>duration_ms</th>\n",
       "      <th>danceability</th>\n",
       "      <th>energy</th>\n",
       "      <th>key</th>\n",
       "      <th>loudness</th>\n",
       "      <th>mode</th>\n",
       "      <th>speechiness</th>\n",
       "      <th>acousticness</th>\n",
       "      <th>instrumentalness</th>\n",
       "      <th>liveness</th>\n",
       "      <th>valence</th>\n",
       "      <th>tempo</th>\n",
       "    </tr>\n",
       "  </thead>\n",
       "  <tbody>\n",
       "    <tr>\n",
       "      <th>count</th>\n",
       "      <td>1.139990e+05</td>\n",
       "      <td>1.139990e+05</td>\n",
       "      <td>1.139990e+05</td>\n",
       "      <td>1.139990e+05</td>\n",
       "      <td>1.139990e+05</td>\n",
       "      <td>1.139990e+05</td>\n",
       "      <td>1.139990e+05</td>\n",
       "      <td>1.139990e+05</td>\n",
       "      <td>1.139990e+05</td>\n",
       "      <td>1.139990e+05</td>\n",
       "      <td>1.139990e+05</td>\n",
       "      <td>1.139990e+05</td>\n",
       "    </tr>\n",
       "    <tr>\n",
       "      <th>mean</th>\n",
       "      <td>-5.784118e-17</td>\n",
       "      <td>-9.374260e-17</td>\n",
       "      <td>2.241346e-16</td>\n",
       "      <td>1.844934e-17</td>\n",
       "      <td>2.164058e-16</td>\n",
       "      <td>-6.183023e-17</td>\n",
       "      <td>3.789594e-17</td>\n",
       "      <td>-1.196714e-17</td>\n",
       "      <td>-2.592880e-17</td>\n",
       "      <td>2.169044e-16</td>\n",
       "      <td>-2.373483e-16</td>\n",
       "      <td>4.642253e-16</td>\n",
       "    </tr>\n",
       "    <tr>\n",
       "      <th>std</th>\n",
       "      <td>1.000004e+00</td>\n",
       "      <td>1.000004e+00</td>\n",
       "      <td>1.000004e+00</td>\n",
       "      <td>1.000004e+00</td>\n",
       "      <td>1.000004e+00</td>\n",
       "      <td>1.000004e+00</td>\n",
       "      <td>1.000004e+00</td>\n",
       "      <td>1.000004e+00</td>\n",
       "      <td>1.000004e+00</td>\n",
       "      <td>1.000004e+00</td>\n",
       "      <td>1.000004e+00</td>\n",
       "      <td>1.000004e+00</td>\n",
       "    </tr>\n",
       "    <tr>\n",
       "      <th>min</th>\n",
       "      <td>-2.045239e+00</td>\n",
       "      <td>-3.266071e+00</td>\n",
       "      <td>-2.549938e+00</td>\n",
       "      <td>-1.491334e+00</td>\n",
       "      <td>-8.206263e+00</td>\n",
       "      <td>-1.326297e+00</td>\n",
       "      <td>-8.006285e-01</td>\n",
       "      <td>-9.470287e-01</td>\n",
       "      <td>-5.041145e-01</td>\n",
       "      <td>-1.121741e+00</td>\n",
       "      <td>-1.828535e+00</td>\n",
       "      <td>-4.074556e+00</td>\n",
       "    </tr>\n",
       "    <tr>\n",
       "      <th>25%</th>\n",
       "      <td>-5.029578e-01</td>\n",
       "      <td>-6.384656e-01</td>\n",
       "      <td>-6.734145e-01</td>\n",
       "      <td>-9.295339e-01</td>\n",
       "      <td>-3.487638e-01</td>\n",
       "      <td>-1.326297e+00</td>\n",
       "      <td>-4.610919e-01</td>\n",
       "      <td>-8.962048e-01</td>\n",
       "      <td>-5.041145e-01</td>\n",
       "      <td>-6.069741e-01</td>\n",
       "      <td>-8.256808e-01</td>\n",
       "      <td>-7.648634e-01</td>\n",
       "    </tr>\n",
       "    <tr>\n",
       "      <th>50%</th>\n",
       "      <td>-1.409672e-01</td>\n",
       "      <td>7.605855e-02</td>\n",
       "      <td>1.734064e-01</td>\n",
       "      <td>-8.683341e-02</td>\n",
       "      <td>2.495260e-01</td>\n",
       "      <td>7.539789e-01</td>\n",
       "      <td>-3.381399e-01</td>\n",
       "      <td>-4.387898e-01</td>\n",
       "      <td>-5.039801e-01</td>\n",
       "      <td>-4.283813e-01</td>\n",
       "      <td>-3.882571e-02</td>\n",
       "      <td>-4.359668e-03</td>\n",
       "    </tr>\n",
       "    <tr>\n",
       "      <th>75%</th>\n",
       "      <td>3.119872e-01</td>\n",
       "      <td>7.387221e-01</td>\n",
       "      <td>8.452970e-01</td>\n",
       "      <td>7.558671e-01</td>\n",
       "      <td>6.473917e-01</td>\n",
       "      <td>7.539789e-01</td>\n",
       "      <td>-1.440658e-03</td>\n",
       "      <td>8.498512e-01</td>\n",
       "      <td>-3.458225e-01</td>\n",
       "      <td>3.122534e-01</td>\n",
       "      <td>8.058864e-01</td>\n",
       "      <td>5.978788e-01</td>\n",
       "    </tr>\n",
       "    <tr>\n",
       "      <th>max</th>\n",
       "      <td>4.668658e+01</td>\n",
       "      <td>2.409787e+00</td>\n",
       "      <td>1.425747e+00</td>\n",
       "      <td>1.598568e+00</td>\n",
       "      <td>2.543268e+00</td>\n",
       "      <td>7.539789e-01</td>\n",
       "      <td>8.326191e+00</td>\n",
       "      <td>2.048272e+00</td>\n",
       "      <td>2.726334e+00</td>\n",
       "      <td>4.130987e+00</td>\n",
       "      <td>2.009312e+00</td>\n",
       "      <td>4.043754e+00</td>\n",
       "    </tr>\n",
       "  </tbody>\n",
       "</table>\n",
       "</div>"
      ],
      "text/plain": [
       "        duration_ms  danceability        energy           key      loudness  \\\n",
       "count  1.139990e+05  1.139990e+05  1.139990e+05  1.139990e+05  1.139990e+05   \n",
       "mean  -5.784118e-17 -9.374260e-17  2.241346e-16  1.844934e-17  2.164058e-16   \n",
       "std    1.000004e+00  1.000004e+00  1.000004e+00  1.000004e+00  1.000004e+00   \n",
       "min   -2.045239e+00 -3.266071e+00 -2.549938e+00 -1.491334e+00 -8.206263e+00   \n",
       "25%   -5.029578e-01 -6.384656e-01 -6.734145e-01 -9.295339e-01 -3.487638e-01   \n",
       "50%   -1.409672e-01  7.605855e-02  1.734064e-01 -8.683341e-02  2.495260e-01   \n",
       "75%    3.119872e-01  7.387221e-01  8.452970e-01  7.558671e-01  6.473917e-01   \n",
       "max    4.668658e+01  2.409787e+00  1.425747e+00  1.598568e+00  2.543268e+00   \n",
       "\n",
       "               mode   speechiness  acousticness  instrumentalness  \\\n",
       "count  1.139990e+05  1.139990e+05  1.139990e+05      1.139990e+05   \n",
       "mean  -6.183023e-17  3.789594e-17 -1.196714e-17     -2.592880e-17   \n",
       "std    1.000004e+00  1.000004e+00  1.000004e+00      1.000004e+00   \n",
       "min   -1.326297e+00 -8.006285e-01 -9.470287e-01     -5.041145e-01   \n",
       "25%   -1.326297e+00 -4.610919e-01 -8.962048e-01     -5.041145e-01   \n",
       "50%    7.539789e-01 -3.381399e-01 -4.387898e-01     -5.039801e-01   \n",
       "75%    7.539789e-01 -1.440658e-03  8.498512e-01     -3.458225e-01   \n",
       "max    7.539789e-01  8.326191e+00  2.048272e+00      2.726334e+00   \n",
       "\n",
       "           liveness       valence         tempo  \n",
       "count  1.139990e+05  1.139990e+05  1.139990e+05  \n",
       "mean   2.169044e-16 -2.373483e-16  4.642253e-16  \n",
       "std    1.000004e+00  1.000004e+00  1.000004e+00  \n",
       "min   -1.121741e+00 -1.828535e+00 -4.074556e+00  \n",
       "25%   -6.069741e-01 -8.256808e-01 -7.648634e-01  \n",
       "50%   -4.283813e-01 -3.882571e-02 -4.359668e-03  \n",
       "75%    3.122534e-01  8.058864e-01  5.978788e-01  \n",
       "max    4.130987e+00  2.009312e+00  4.043754e+00  "
      ]
     },
     "execution_count": 94,
     "metadata": {},
     "output_type": "execute_result"
    }
   ],
   "source": [
    "# Scaling numeric features only, exclude target (col 16)\n",
    "df_X = trans_df.iloc[:, 3:15]  # Exclude \n",
    "\n",
    "# Fit and transform the features\n",
    "df_scaled_num = scale.fit_transform(df_X)\n",
    "df_scaled_num = pd.DataFrame(df_scaled_num, columns=df_X.columns)\n",
    "\n",
    "df_scaled_num.describe()"
   ]
  },
  {
   "cell_type": "code",
   "execution_count": 95,
   "id": "ed9d3d00",
   "metadata": {},
   "outputs": [
    {
     "data": {
      "text/plain": [
       "Text(0.5, 1.0, 'Numerical Features with outliers')"
      ]
     },
     "execution_count": 95,
     "metadata": {},
     "output_type": "execute_result"
    },
    {
     "data": {
      "image/png": "[encoded data removed]",
      "text/plain": [
       "<Figure size 1600x800 with 1 Axes>"
      ]
     },
     "metadata": {},
     "output_type": "display_data"
    }
   ],
   "source": [
    "# Set seaborn theme for plotting \n",
    "sns.set_theme(style='darkgrid')\n",
    "\n",
    "#Pandas melt to reshape from wide to long format where y will be value for plotting \n",
    "df_melt=pd.melt(df_scaled_num)\n",
    "df_melt\n",
    "\n",
    "#box plot with outliers\n",
    "plt.figure(figsize=(16, 8))\n",
    "sns.boxplot(x='variable', y='value', data=df_melt, palette='Set2')\n",
    "plt.xlabel(None)\n",
    "plt.tight_layout()\n",
    "plt.title('Numerical Features with outliers')"
   ]
  },
  {
   "cell_type": "code",
   "execution_count": 96,
   "id": "1c8a46dd",
   "metadata": {},
   "outputs": [
    {
     "data": {
      "text/plain": [
       "Text(0.5, 1.0, 'Numercial Features without outliers')"
      ]
     },
     "execution_count": 96,
     "metadata": {},
     "output_type": "execute_result"
    },
    {
     "data": {
      "image/png": "[encoded data removed]",
      "text/plain": [
       "<Figure size 1600x800 with 1 Axes>"
      ]
     },
     "metadata": {},
     "output_type": "display_data"
    }
   ],
   "source": [
    "#box plot without outliers\n",
    "plt.figure(figsize=(16, 8))\n",
    "sns.boxplot(x='variable', y='value', data=df_melt, showfliers=False, palette='Set2')\n",
    "plt.xlabel(None)\n",
    "plt.tight_layout()\n",
    "plt.title('Numercial Features without outliers')"
   ]
  },
  {
   "cell_type": "markdown",
   "id": "7d5b03f0",
   "metadata": {},
   "source": [
    "Removing outliers"
   ]
  },
  {
   "cell_type": "code",
   "execution_count": 97,
   "id": "b11fb211",
   "metadata": {},
   "outputs": [],
   "source": [
    "# Code to check for outliers\n",
    "\n",
    "df_outlier = df_scaled_num\n",
    "for col in df_outlier.columns:\n",
    "  q1=df_outlier[col].quantile(0.25)\n",
    "  q3=df_outlier[col].quantile(0.75)\n",
    "  inq=q3-q1\n",
    "  filter=(df_outlier[col] >= q1-1.5*inq) & (df_outlier[col] <= q3+1.5*inq)\n",
    "  df_outlier[col] = df_outlier[col].loc[filter]"
   ]
  },
  {
   "cell_type": "code",
   "execution_count": 98,
   "id": "e154d2c6",
   "metadata": {},
   "outputs": [
    {
     "name": "stdout",
     "output_type": "stream",
     "text": [
      "Null values:\n",
      "duration_ms          5616\n",
      "danceability          620\n",
      "energy                  0\n",
      "key                     0\n",
      "loudness             6173\n",
      "mode                    0\n",
      "speechiness         13211\n",
      "acousticness            0\n",
      "instrumentalness    25246\n",
      "liveness             8642\n",
      "valence                 0\n",
      "tempo                 617\n",
      "dtype: int64\n"
     ]
    }
   ],
   "source": [
    "# Number of outliers for each predictor\n",
    "df_outlier.isna().sum()\n",
    "print(f\"Null values:\\n{df_outlier.isna().sum()}\")\n"
   ]
  },
  {
   "cell_type": "code",
   "execution_count": 99,
   "id": "030bfa87",
   "metadata": {},
   "outputs": [
    {
     "name": "stdout",
     "output_type": "stream",
     "text": [
      "Columns dropped: 2\n",
      "Numerical columns remaning:\n",
      " Index(['duration_ms', 'danceability', 'energy', 'key', 'loudness', 'mode',\n",
      "       'acousticness', 'liveness', 'valence', 'tempo'],\n",
      "      dtype='object')\n"
     ]
    }
   ],
   "source": [
    "# Dropping of 2 columns due to excessive outliers\n",
    "df_outlier_drop = df_outlier.drop(axis=1, labels=['speechiness', 'instrumentalness'])\n",
    "print(f\"Columns dropped: {len(['speechiness', 'instrumentalness'])}\")\n",
    "print(f\"Numerical columns remaning:\\n {df_outlier_drop.columns}\")"
   ]
  },
  {
   "cell_type": "markdown",
   "id": "0ada18dd",
   "metadata": {},
   "source": [
    "Correlation Matrix of Numerical Features"
   ]
  },
  {
   "cell_type": "code",
   "execution_count": 100,
   "id": "e383b9a5",
   "metadata": {},
   "outputs": [
    {
     "data": {
      "image/png": "[encoded data removed]",
      "text/plain": [
       "<Figure size 1000x1000 with 2 Axes>"
      ]
     },
     "metadata": {},
     "output_type": "display_data"
    }
   ],
   "source": [
    "plt.figure(figsize=(10, 10))\n",
    "sns.heatmap(df_outlier_drop.corr(), annot=True, fmt=\".2f\", cmap= 'RdBu')\n",
    "plt.title(\"Correlation Matrix - Numeric Features\")\n",
    "plt.show()"
   ]
  },
  {
   "cell_type": "markdown",
   "id": "f51d4b25",
   "metadata": {},
   "source": [
    "Creating final scaled dataset with all features (Track Names, etc.)"
   ]
  },
  {
   "cell_type": "code",
   "execution_count": 101,
   "id": "a51541bf",
   "metadata": {},
   "outputs": [
    {
     "name": "stdout",
     "output_type": "stream",
     "text": [
      "Final dataset shape: (113999, 17)\n",
      "\n",
      "Feature columns after scaling:\n",
      "['artists', 'album_name', 'track_name', 'duration_ms', 'danceability', 'energy', 'key', 'loudness', 'mode', 'speechiness', 'acousticness', 'instrumentalness', 'liveness', 'valence', 'tempo', 'track_genre', 'popularity_class']\n"
     ]
    }
   ],
   "source": [
    "# Creating final scaled dataset with all features\n",
    "scale = StandardScaler()\n",
    "\n",
    "# Make dataframe copy as final df\n",
    "df_final = trans_df.copy()\n",
    "\n",
    "# Filter numeric columns for scaling (excluding target variable)\n",
    "numeric_scale = df_final.select_dtypes(include=['float64', 'int64']).columns # Numeric datatypes only for scaling\n",
    "# Drop target variable\n",
    "numeric_scale = numeric_scale.drop('popularity_class')\n",
    "\n",
    "# Scale remaining numeric features\n",
    "df_final[numeric_scale] = scale.fit_transform(df_final[numeric_scale])\n",
    "\n",
    "# Drop outliers identified\n",
    "outlier_drop = df_final.drop(axis=1, labels=['speechiness', 'instrumentalness'])\n",
    "\n",
    "# Verify scaling\n",
    "print(\"Final dataset shape:\", df_final.shape)\n",
    "print(\"\\nFeature columns after scaling:\")\n",
    "print(df_final.columns.tolist())\n"
   ]
  },
  {
   "cell_type": "code",
   "execution_count": 102,
   "id": "35b31c97",
   "metadata": {},
   "outputs": [
    {
     "data": {
      "application/vnd.microsoft.datawrangler.viewer.v0+json": {
       "columns": [
        {
         "name": "index",
         "rawType": "int64",
         "type": "integer"
        },
        {
         "name": "artists",
         "rawType": "object",
         "type": "string"
        },
        {
         "name": "album_name",
         "rawType": "object",
         "type": "string"
        },
        {
         "name": "track_name",
         "rawType": "object",
         "type": "string"
        },
        {
         "name": "duration_ms",
         "rawType": "float64",
         "type": "float"
        },
        {
         "name": "danceability",
         "rawType": "float64",
         "type": "float"
        },
        {
         "name": "energy",
         "rawType": "float64",
         "type": "float"
        },
        {
         "name": "key",
         "rawType": "float64",
         "type": "float"
        },
        {
         "name": "loudness",
         "rawType": "float64",
         "type": "float"
        },
        {
         "name": "mode",
         "rawType": "float64",
         "type": "float"
        },
        {
         "name": "speechiness",
         "rawType": "float64",
         "type": "float"
        },
        {
         "name": "acousticness",
         "rawType": "float64",
         "type": "float"
        },
        {
         "name": "instrumentalness",
         "rawType": "float64",
         "type": "float"
        },
        {
         "name": "liveness",
         "rawType": "float64",
         "type": "float"
        },
        {
         "name": "valence",
         "rawType": "float64",
         "type": "float"
        },
        {
         "name": "tempo",
         "rawType": "float64",
         "type": "float"
        },
        {
         "name": "track_genre",
         "rawType": "object",
         "type": "string"
        },
        {
         "name": "popularity_class",
         "rawType": "int64",
         "type": "integer"
        }
       ],
       "ref": "0f31f72e-d847-44f2-960b-44bb5d450c4f",
       "rows": [
        [
         "0",
         "Gen Hoshino",
         "Comedy",
         "Comedy",
         "0.02455689636035123",
         "0.6292385510700582",
         "-0.7171469842987374",
         "-1.2104340919066763",
         "0.30082500299903153",
         "-1.3262970429981178",
         "0.551843227200402",
         "-0.8501926274135742",
         "-0.5041112403353585",
         "0.7587353126349383",
         "0.9293146734198574",
         "-1.1418544942299413",
         "acoustic",
         "1"
        ],
        [
         "1",
         "Ben Woodward",
         "Ghost (Acoustic)",
         "Ghost - Acoustic",
         "-0.7308888976370448",
         "-0.8459081300260157",
         "-1.8899739307556314",
         "-1.2104340919066763",
         "-1.784738832533267",
         "0.7539789108927536",
         "-0.07899498038475024",
         "1.8317444880574527",
         "-0.5040965417937556",
         "-0.5912158687056083",
         "-0.798680913595192",
         "-1.4897077509017869",
         "acoustic",
         "1"
        ],
        [
         "2",
         "Ingrid Michaelson;ZAYN",
         "To Begin Again",
         "To Begin Again",
         "-0.1603528518743055",
         "-0.742186879011448",
         "-1.1226668098533246",
         "-1.4913342621777257",
         "-0.293289282497251",
         "0.7539789108927536",
         "-0.27382657073338806",
         "-0.3154893092584401",
         "-0.5041145030885494",
         "-0.5071722153925782",
         "-1.3656794655845053",
         "-1.5283025167216306",
         "acoustic",
         "1"
        ],
        [
         "3",
         "Kina Grannis",
         "Crazy Rich Asians (Original Motion Picture Soundtrack)",
         "Can't Help Falling In Love",
         "-0.24323603690710807",
         "-1.7333010553728723",
         "-2.3129867683929657",
         "-1.4913342621777257",
         "-2.0392456215008847",
         "0.7539789108927536",
         "-0.4573087480520081",
         "1.774605213338963",
         "-0.5038861103651822",
         "-0.4283812904116124",
         "-1.2769654064297147",
         "1.9878574448497082",
         "acoustic",
         "1"
        ],
        [
         "4",
         "Chord Overstreet",
         "Hold On",
         "Hold On",
         "-0.27194178411289144",
         "0.29502563113422875",
         "-0.7887093064554292",
         "-0.929533921635627",
         "-0.2827511107665604",
         "0.7539789108927536",
         "-0.30314588772760054",
         "0.46340922506203075",
         "-0.5041145030885494",
         "-0.6862902515159737",
         "-1.184394214268194",
         "-0.07334322479068535",
         "acoustic",
         "1"
        ]
       ],
       "shape": {
        "columns": 17,
        "rows": 5
       }
      },
      "text/html": [
       "<div>\n",
       "<style scoped>\n",
       "    .dataframe tbody tr th:only-of-type {\n",
       "        vertical-align: middle;\n",
       "    }\n",
       "\n",
       "    .dataframe tbody tr th {\n",
       "        vertical-align: top;\n",
       "    }\n",
       "\n",
       "    .dataframe thead th {\n",
       "        text-align: right;\n",
       "    }\n",
       "</style>\n",
       "<table border=\"1\" class=\"dataframe\">\n",
       "  <thead>\n",
       "    <tr style=\"text-align: right;\">\n",
       "      <th></th>\n",
       "      <th>artists</th>\n",
       "      <th>album_name</th>\n",
       "      <th>track_name</th>\n",
       "      <th>duration_ms</th>\n",
       "      <th>danceability</th>\n",
       "      <th>energy</th>\n",
       "      <th>key</th>\n",
       "      <th>loudness</th>\n",
       "      <th>mode</th>\n",
       "      <th>speechiness</th>\n",
       "      <th>acousticness</th>\n",
       "      <th>instrumentalness</th>\n",
       "      <th>liveness</th>\n",
       "      <th>valence</th>\n",
       "      <th>tempo</th>\n",
       "      <th>track_genre</th>\n",
       "      <th>popularity_class</th>\n",
       "    </tr>\n",
       "  </thead>\n",
       "  <tbody>\n",
       "    <tr>\n",
       "      <th>0</th>\n",
       "      <td>Gen Hoshino</td>\n",
       "      <td>Comedy</td>\n",
       "      <td>Comedy</td>\n",
       "      <td>0.024557</td>\n",
       "      <td>0.629239</td>\n",
       "      <td>-0.717147</td>\n",
       "      <td>-1.210434</td>\n",
       "      <td>0.300825</td>\n",
       "      <td>-1.326297</td>\n",
       "      <td>0.551843</td>\n",
       "      <td>-0.850193</td>\n",
       "      <td>-0.504111</td>\n",
       "      <td>0.758735</td>\n",
       "      <td>0.929315</td>\n",
       "      <td>-1.141854</td>\n",
       "      <td>acoustic</td>\n",
       "      <td>1</td>\n",
       "    </tr>\n",
       "    <tr>\n",
       "      <th>1</th>\n",
       "      <td>Ben Woodward</td>\n",
       "      <td>Ghost (Acoustic)</td>\n",
       "      <td>Ghost - Acoustic</td>\n",
       "      <td>-0.730889</td>\n",
       "      <td>-0.845908</td>\n",
       "      <td>-1.889974</td>\n",
       "      <td>-1.210434</td>\n",
       "      <td>-1.784739</td>\n",
       "      <td>0.753979</td>\n",
       "      <td>-0.078995</td>\n",
       "      <td>1.831744</td>\n",
       "      <td>-0.504097</td>\n",
       "      <td>-0.591216</td>\n",
       "      <td>-0.798681</td>\n",
       "      <td>-1.489708</td>\n",
       "      <td>acoustic</td>\n",
       "      <td>1</td>\n",
       "    </tr>\n",
       "    <tr>\n",
       "      <th>2</th>\n",
       "      <td>Ingrid Michaelson;ZAYN</td>\n",
       "      <td>To Begin Again</td>\n",
       "      <td>To Begin Again</td>\n",
       "      <td>-0.160353</td>\n",
       "      <td>-0.742187</td>\n",
       "      <td>-1.122667</td>\n",
       "      <td>-1.491334</td>\n",
       "      <td>-0.293289</td>\n",
       "      <td>0.753979</td>\n",
       "      <td>-0.273827</td>\n",
       "      <td>-0.315489</td>\n",
       "      <td>-0.504115</td>\n",
       "      <td>-0.507172</td>\n",
       "      <td>-1.365679</td>\n",
       "      <td>-1.528303</td>\n",
       "      <td>acoustic</td>\n",
       "      <td>1</td>\n",
       "    </tr>\n",
       "    <tr>\n",
       "      <th>3</th>\n",
       "      <td>Kina Grannis</td>\n",
       "      <td>Crazy Rich Asians (Original Motion Picture Sou...</td>\n",
       "      <td>Can't Help Falling In Love</td>\n",
       "      <td>-0.243236</td>\n",
       "      <td>-1.733301</td>\n",
       "      <td>-2.312987</td>\n",
       "      <td>-1.491334</td>\n",
       "      <td>-2.039246</td>\n",
       "      <td>0.753979</td>\n",
       "      <td>-0.457309</td>\n",
       "      <td>1.774605</td>\n",
       "      <td>-0.503886</td>\n",
       "      <td>-0.428381</td>\n",
       "      <td>-1.276965</td>\n",
       "      <td>1.987857</td>\n",
       "      <td>acoustic</td>\n",
       "      <td>1</td>\n",
       "    </tr>\n",
       "    <tr>\n",
       "      <th>4</th>\n",
       "      <td>Chord Overstreet</td>\n",
       "      <td>Hold On</td>\n",
       "      <td>Hold On</td>\n",
       "      <td>-0.271942</td>\n",
       "      <td>0.295026</td>\n",
       "      <td>-0.788709</td>\n",
       "      <td>-0.929534</td>\n",
       "      <td>-0.282751</td>\n",
       "      <td>0.753979</td>\n",
       "      <td>-0.303146</td>\n",
       "      <td>0.463409</td>\n",
       "      <td>-0.504115</td>\n",
       "      <td>-0.686290</td>\n",
       "      <td>-1.184394</td>\n",
       "      <td>-0.073343</td>\n",
       "      <td>acoustic</td>\n",
       "      <td>1</td>\n",
       "    </tr>\n",
       "  </tbody>\n",
       "</table>\n",
       "</div>"
      ],
      "text/plain": [
       "                  artists                                         album_name  \\\n",
       "0             Gen Hoshino                                             Comedy   \n",
       "1            Ben Woodward                                   Ghost (Acoustic)   \n",
       "2  Ingrid Michaelson;ZAYN                                     To Begin Again   \n",
       "3            Kina Grannis  Crazy Rich Asians (Original Motion Picture Sou...   \n",
       "4        Chord Overstreet                                            Hold On   \n",
       "\n",
       "                   track_name  duration_ms  danceability    energy       key  \\\n",
       "0                      Comedy     0.024557      0.629239 -0.717147 -1.210434   \n",
       "1            Ghost - Acoustic    -0.730889     -0.845908 -1.889974 -1.210434   \n",
       "2              To Begin Again    -0.160353     -0.742187 -1.122667 -1.491334   \n",
       "3  Can't Help Falling In Love    -0.243236     -1.733301 -2.312987 -1.491334   \n",
       "4                     Hold On    -0.271942      0.295026 -0.788709 -0.929534   \n",
       "\n",
       "   loudness      mode  speechiness  acousticness  instrumentalness  liveness  \\\n",
       "0  0.300825 -1.326297     0.551843     -0.850193         -0.504111  0.758735   \n",
       "1 -1.784739  0.753979    -0.078995      1.831744         -0.504097 -0.591216   \n",
       "2 -0.293289  0.753979    -0.273827     -0.315489         -0.504115 -0.507172   \n",
       "3 -2.039246  0.753979    -0.457309      1.774605         -0.503886 -0.428381   \n",
       "4 -0.282751  0.753979    -0.303146      0.463409         -0.504115 -0.686290   \n",
       "\n",
       "    valence     tempo track_genre  popularity_class  \n",
       "0  0.929315 -1.141854    acoustic                 1  \n",
       "1 -0.798681 -1.489708    acoustic                 1  \n",
       "2 -1.365679 -1.528303    acoustic                 1  \n",
       "3 -1.276965  1.987857    acoustic                 1  \n",
       "4 -1.184394 -0.073343    acoustic                 1  "
      ]
     },
     "execution_count": 102,
     "metadata": {},
     "output_type": "execute_result"
    }
   ],
   "source": [
    "df_final.head()"
   ]
  },
  {
   "cell_type": "markdown",
   "id": "5df3da59",
   "metadata": {},
   "source": [
    "### Model Training"
   ]
  },
  {
   "cell_type": "markdown",
   "id": "a805fb09",
   "metadata": {},
   "source": [
    "Create X and Y "
   ]
  },
  {
   "cell_type": "code",
   "execution_count": 103,
   "id": "4697273c",
   "metadata": {},
   "outputs": [],
   "source": [
    "# Train Test Split\n",
    "from sklearn.model_selection import train_test_split"
   ]
  },
  {
   "cell_type": "code",
   "execution_count": 104,
   "id": "35b72805",
   "metadata": {},
   "outputs": [
    {
     "name": "stdout",
     "output_type": "stream",
     "text": [
      "Shape of X: (113999, 12)\n"
     ]
    }
   ],
   "source": [
    "X = df_final.iloc[:,3:15]\n",
    "print(f\"Shape of X: {X.shape}\")"
   ]
  },
  {
   "cell_type": "code",
   "execution_count": 105,
   "id": "14aa2788",
   "metadata": {},
   "outputs": [
    {
     "name": "stdout",
     "output_type": "stream",
     "text": [
      "Shape of y: (113999,)\n"
     ]
    }
   ],
   "source": [
    "y = df_final['popularity_class']\n",
    "print(f\"Shape of y: {y.shape}\")"
   ]
  },
  {
   "cell_type": "markdown",
   "id": "1ff93b24",
   "metadata": {},
   "source": [
    "Train-Test Split"
   ]
  },
  {
   "cell_type": "code",
   "execution_count": 106,
   "id": "5b3a889d",
   "metadata": {},
   "outputs": [],
   "source": [
    "X_train, X_test, y_train, y_test = train_test_split(X, y, train_size=0.8, shuffle=True, random_state=42)"
   ]
  },
  {
   "cell_type": "markdown",
   "id": "74e8a1ab",
   "metadata": {},
   "source": [
    "### First Model Train"
   ]
  },
  {
   "cell_type": "code",
   "execution_count": 107,
   "id": "c80266db",
   "metadata": {},
   "outputs": [],
   "source": [
    "# Models \n",
    "from sklearn.linear_model import LogisticRegression\n",
    "from sklearn.neighbors import KNeighborsClassifier\n",
    "from sklearn.tree import DecisionTreeClassifier\n",
    "from sklearn.ensemble import RandomForestClassifier\n",
    "from sklearn.ensemble import GradientBoostingClassifier\n",
    "from xgboost import XGBClassifier\n",
    "\n",
    "# Scoring\n",
    "from sklearn.metrics import mean_squared_error as mse\n",
    "from sklearn.metrics import accuracy_score\n",
    "\n",
    "from sklearn.metrics import confusion_matrix\n",
    "from sklearn.model_selection import cross_val_score\n",
    "from sklearn.metrics import classification_report\n",
    "\n",
    "# Hyperparameter tuning \n",
    "from sklearn.model_selection import GridSearchCV"
   ]
  }
 ],
 "metadata": {
  "kernelspec": {
   "display_name": "jupyterlab",
   "language": "python",
   "name": "python3"
  },
  "language_info": {
   "codemirror_mode": {
    "name": "ipython",
    "version": 3
   },
   "file_extension": ".py",
   "mimetype": "text/x-python",
   "name": "python",
   "nbconvert_exporter": "python",
   "pygments_lexer": "ipython3",
   "version": "3.12.8"
  }
 },
 "nbformat": 4,
 "nbformat_minor": 5
}
